{
  "cells": [
    {
      "cell_type": "markdown",
      "metadata": {},
      "source": [
        "# Deep Knowledge Tracing (DKT) - Training Notebook\n",
        "\n",
        "This notebook demonstrates:\n",
        "1. Creating synthetic student interaction data\n",
        "2. Training a DKT LSTM model\n",
        "3. Evaluating model performance (AUC, Brier score)\n",
        "4. Comparing with Beta-Bernoulli baseline\n",
        "5. Saving the trained model for deployment\n"
      ]
    },
    {
      "cell_type": "code",
      "execution_count": null,
      "metadata": {},
      "outputs": [],
      "source": [
        "import sys\n",
        "sys.path.append('..')\n",
        "\n",
        "import numpy as np\n",
        "import torch\n",
        "import matplotlib.pyplot as plt\n",
        "from pathlib import Path\n",
        "\n",
        "from models.dkt import DKT, DKTPredictor, create_synthetic_data, train_dkt\n",
        "from models.beta_kt import BetaKT\n",
        "from evaluation import KTEvaluator\n",
        "\n",
        "print(f\"PyTorch version: {torch.__version__}\")\n",
        "print(f\"Device: {'cuda' if torch.cuda.is_available() else 'cpu'}\")\n"
      ]
    },
    {
      "cell_type": "markdown",
      "metadata": {},
      "source": [
        "## 1. Generate Synthetic Data\n",
        "\n",
        "We'll create synthetic student interaction sequences with varying abilities and learning effects.\n"
      ]
    },
    {
      "cell_type": "code",
      "execution_count": null,
      "metadata": {},
      "outputs": [],
      "source": [
        "# Parameters\n",
        "N_STUDENTS = 200\n",
        "N_QUESTIONS = 25\n",
        "SEED = 42\n",
        "\n",
        "# Generate data\n",
        "data = create_synthetic_data(\n",
        "    n_students=N_STUDENTS,\n",
        "    n_questions=N_QUESTIONS,\n",
        "    seq_len_range=(15, 60),\n",
        "    seed=SEED\n",
        ")\n",
        "\n",
        "print(f\"Generated {len(data)} student sequences\")\n",
        "print(f\"Example sequence length: {len(data[0]['attempts'])}\")\n",
        "print(f\"Example first 5 attempts: {data[0]['attempts'][:5]}\")\n"
      ]
    },
    {
      "cell_type": "markdown",
      "metadata": {},
      "source": [
        "## 2. Train DKT Model\n"
      ]
    },
    {
      "cell_type": "code",
      "execution_count": null,
      "metadata": {},
      "outputs": [],
      "source": [
        "# Split data\n",
        "np.random.shuffle(data)\n",
        "train_data = data[:140]\n",
        "test_data = data[140:]\n",
        "\n",
        "# Train\n",
        "model = train_dkt(\n",
        "    data=train_data,\n",
        "    n_questions=N_QUESTIONS,\n",
        "    epochs=20,\n",
        "    batch_size=32,\n",
        "    lr=0.001,\n",
        "    device='cpu',\n",
        "    save_path='../models/dkt_model.pt'\n",
        ")\n",
        "\n",
        "print(\"Training complete! Model saved.\")\n"
      ]
    },
    {
      "cell_type": "markdown",
      "metadata": {},
      "source": [
        "## 3. Evaluate and Compare\n",
        "\n",
        "Now evaluate the DKT model and compare with the Beta-Bernoulli baseline.\n"
      ]
    },
    {
      "cell_type": "code",
      "execution_count": null,
      "metadata": {},
      "outputs": [],
      "source": [
        "# Load and evaluate\n",
        "predictor = DKTPredictor(model_path='../models/dkt_model.pt', device='cpu')\n",
        "\n",
        "y_true = []\n",
        "y_pred = []\n",
        "\n",
        "for student in test_data:\n",
        "    attempts = student['attempts']\n",
        "    for i in range(5, len(attempts)):\n",
        "        history = attempts[:i]\n",
        "        next_attempt = attempts[i]\n",
        "        prob = predictor.predict_next_question(history, next_attempt['question_id'])\n",
        "        y_true.append(int(next_attempt['correct']))\n",
        "        y_pred.append(prob)\n",
        "\n",
        "# Metrics\n",
        "dkt_metrics = KTEvaluator.evaluate_model(y_true, y_pred)\n",
        "print(f\"DKT AUC: {dkt_metrics['auc']:.4f}\")\n",
        "print(f\"DKT Brier: {dkt_metrics['brier_score']:.4f}\")\n",
        "print(f\"DKT Accuracy: {dkt_metrics['accuracy']:.4f}\")\n"
      ]
    }
  ],
  "metadata": {
    "language_info": {
      "name": "python"
    }
  },
  "nbformat": 4,
  "nbformat_minor": 2
}
