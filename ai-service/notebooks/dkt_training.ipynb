{
  "cells": [
    {
      "cell_type": "markdown",
      "metadata": {},
      "source": [
        "# Deep Knowledge Tracing (DKT) - Training Notebook\n",
        "\n",
        "This notebook demonstrates:\n",
        "1. Creating synthetic student interaction data\n",
        "2. Training a DKT LSTM model\n",
        "3. Evaluating model performance (AUC, Brier score)\n",
        "4. Comparing with Beta-Bernoulli baseline\n",
        "5. Saving the trained model for deployment\n"
      ]
    },
    {
      "cell_type": "code",
      "execution_count": null,
      "metadata": {},
      "outputs": [],
      "source": [
        "import sys\n",
        "sys.path.append('..')\n",
        "\n",
        "import numpy as np\n",
        "import torch\n",
        "import matplotlib.pyplot as plt\n",
        "from pathlib import Path\n",
        "\n",
        "from models.dkt import DKT, DKTPredictor, create_synthetic_data, train_dkt\n",
        "from models.beta_kt import BetaKT\n",
        "from evaluation import KTEvaluator\n",
        "\n",
        "print(f\"PyTorch version: {torch.__version__}\")\n",
        "print(f\"Device: {'cuda' if torch.cuda.is_available() else 'cpu'}\")\n"
      ]
    },
    {
      "cell_type": "markdown",
      "metadata": {},
      "source": [
        "## 1. Generate Synthetic Data\n",
        "\n",
        "We'll create synthetic student interaction sequences with varying abilities and learning effects.\n"
      ]
    },
    {
      "cell_type": "code",
      "execution_count": null,
      "metadata": {},
      "outputs": [],
      "source": [
        "# Parameters\n",
        "N_STUDENTS = 200\n",
        "N_QUESTIONS = 25\n",
        "SEED = 42\n",
        "\n",
        "# Generate data\n",
        "data = create_synthetic_data(\n",
        "    n_students=N_STUDENTS,\n",
        "    n_questions=N_QUESTIONS,\n",
        "    seq_len_range=(15, 60),\n",
        "    seed=SEED\n",
        ")\n",
        "\n",
        "print(f\"Generated {len(data)} student sequences\")\n",
        "print(f\"Example sequence length: {len(data[0]['attempts'])}\")\n",
        "print(f\"Example first 5 attempts: {data[0]['attempts'][:5]}\")\n"
      ]
    },
    {
      "cell_type": "markdown",
      "metadata": {},
      "source": [
        "## 2. Train DKT Model\n"
      ]
    },
    {
      "cell_type": "code",
      "execution_count": null,
      "metadata": {},
      "outputs": [],
      "source": [
        "# Split data\n",
        "np.random.shuffle(data)\n",
        "train_data = data[:140]\n",
        "test_data = data[140:]\n",
        "\n",
        "# Train\n",
        "model = train_dkt(\n",
        "    data=train_data,\n",
        "    n_questions=N_QUESTIONS,\n",
        "    epochs=20,\n",
        "    batch_size=32,\n",
        "    lr=0.001,\n",
        "    device='cpu',\n",
        "    save_path='../models/dkt_model.pt'\n",
        ")\n",
        "\n",
        "print(\"Training complete! Model saved.\")\n"
      ]
    },
    {
      "cell_type": "markdown",
      "metadata": {},
      "source": [
        "## 3. Evaluate and Compare\n",
        "\n",
        "Now evaluate the DKT model and compare with the Beta-Bernoulli baseline.\n"
      ]
    },
    {
      "cell_type": "markdown",
      "metadata": {},
      "source": [
        "## 4. STEM Learning Path Generation\n",
        "\n",
        "Now let's use our trained models to generate personalized STEM learning pathways!\n"
      ]
    },
    {
      "cell_type": "code",
      "execution_count": null,
      "metadata": {},
      "outputs": [],
      "source": [
        "# Load and evaluate\n",
        "predictor = DKTPredictor(model_path='../models/dkt_model.pt', device='cpu')\n",
        "\n",
        "y_true = []\n",
        "y_pred = []\n",
        "\n",
        "for student in test_data:\n",
        "    attempts = student['attempts']\n",
        "    for i in range(5, len(attempts)):\n",
        "        history = attempts[:i]\n",
        "        next_attempt = attempts[i]\n",
        "        prob = predictor.predict_next_question(history, next_attempt['question_id'])\n",
        "        y_true.append(int(next_attempt['correct']))\n",
        "        y_pred.append(prob)\n",
        "\n",
        "# Metrics\n",
        "dkt_metrics = KTEvaluator.evaluate_model(y_true, y_pred)\n",
        "print(f\"DKT AUC: {dkt_metrics['auc']:.4f}\")\n",
        "print(f\"DKT Brier: {dkt_metrics['brier_score']:.4f}\")\n",
        "print(f\"DKT Accuracy: {dkt_metrics['accuracy']:.4f}\")\n",
        "\n",
        "# Compare with Beta-KT baseline\n",
        "beta_kt = BetaKT(alpha=1.0, beta=1.0)\n",
        "print(f\"\\n✅ DKT model trained and evaluated successfully!\")\n"
      ]
    },
    {
      "cell_type": "code",
      "execution_count": null,
      "metadata": {},
      "outputs": [],
      "source": [
        "sys.path.append('..')\n",
        "from stem_path_generator import STEMPathGenerator, LearningStyle\n",
        "import json\n",
        "\n",
        "# Initialize STEM path generator\n",
        "generator = STEMPathGenerator()\n",
        "\n",
        "print(f\"📚 Knowledge Graph loaded with {len(generator.knowledge_graph)} concepts\")\n",
        "print(f\"Subjects available: {set(c.subject for c in generator.knowledge_graph.values())}\")\n"
      ]
    },
    {
      "cell_type": "markdown",
      "metadata": {},
      "source": [
        "### Example 1: Beginner Programmer - Visual Learner\n"
      ]
    },
    {
      "cell_type": "code",
      "execution_count": null,
      "metadata": {},
      "outputs": [],
      "source": [
        "# User A: Beginner with some exposure to variables\n",
        "user_a_attempts = [\n",
        "    {\"concept\": \"variables\", \"correct\": True},\n",
        "    {\"concept\": \"variables\", \"correct\": True},\n",
        "    {\"concept\": \"variables\", \"correct\": False},  # Still learning\n",
        "    {\"concept\": \"control_structures\", \"correct\": False},  # Struggling\n",
        "]\n",
        "\n",
        "path_a = generator.generate_path(\n",
        "    user_id=\"user_a_beginner\",\n",
        "    subject=\"programming\",\n",
        "    user_attempts=user_a_attempts,\n",
        "    learning_style=LearningStyle.VISUAL,\n",
        "    learning_goal=\"Master Python basics\"\n",
        ")\n",
        "\n",
        "print(\"=\" * 80)\n",
        "print(f\"🎯 Learning Path for {path_a.user_id}\")\n",
        "print(f\"📊 Overall Mastery: {path_a.overall_mastery:.1%}\")\n",
        "print(f\"⏱️  Estimated Time: {path_a.metadata['estimated_total_hours']:.1f} hours\")\n",
        "print(\"=\" * 80)\n",
        "\n",
        "for i, node in enumerate(path_a.nodes[:5], 1):  # Show first 5 concepts\n",
        "    status_emoji = {\"completed\": \"✅\", \"in_progress\": \"🔄\", \"not_started\": \"⭕\", \"locked\": \"🔒\"}\n",
        "    print(f\"\\n{i}. {status_emoji[node.status]} {node.concept.name}\")\n",
        "    print(f\"   Current Mastery: {node.current_mastery:.1%} → Target: {node.target_mastery:.1%}\")\n",
        "    print(f\"   Status: {node.status.upper()}\")\n",
        "    print(f\"   Prerequisites: {', '.join(node.concept.prerequisites) or 'None'}\")\n",
        "    print(f\"   Recommended Resources:\")\n",
        "    for res in node.recommended_resources[:2]:  # Show top 2\n",
        "        print(f\"      • {res.title} ({res.type}, {res.duration_minutes}min, difficulty: {res.difficulty:.1%})\")\n"
      ]
    },
    {
      "cell_type": "markdown",
      "metadata": {},
      "source": [
        "### Example 2: Intermediate Programmer - Kinesthetic Learner\n"
      ]
    },
    {
      "cell_type": "code",
      "execution_count": null,
      "metadata": {},
      "outputs": [],
      "source": [
        "# User B: Intermediate learner, good at fundamentals but needs work on advanced topics\n",
        "user_b_attempts = [\n",
        "    # Strong fundamentals\n",
        "    {\"concept\": \"variables\", \"correct\": True},\n",
        "    {\"concept\": \"variables\", \"correct\": True},\n",
        "    {\"concept\": \"control_structures\", \"correct\": True},\n",
        "    {\"concept\": \"control_structures\", \"correct\": True},\n",
        "    {\"concept\": \"functions\", \"correct\": True},\n",
        "    {\"concept\": \"functions\", \"correct\": False},  # Some challenges\n",
        "    # Struggling with advanced concepts\n",
        "    {\"concept\": \"arrays\", \"correct\": False},\n",
        "    {\"concept\": \"arrays\", \"correct\": False},\n",
        "]\n",
        "\n",
        "path_b = generator.generate_path(\n",
        "    user_id=\"user_b_intermediate\",\n",
        "    subject=\"programming\",\n",
        "    user_attempts=user_b_attempts,\n",
        "    learning_style=LearningStyle.KINESTHETIC,  # Prefers hands-on labs and projects\n",
        "    learning_goal=\"Prepare for data structures course\"\n",
        ")\n",
        "\n",
        "print(\"=\" * 80)\n",
        "print(f\"🎯 Learning Path for {path_b.user_id}\")\n",
        "print(f\"📊 Overall Mastery: {path_b.overall_mastery:.1%}\")\n",
        "print(f\"⏱️  Estimated Time: {path_b.metadata['estimated_total_hours']:.1f} hours\")\n",
        "print(f\"🎨 Learning Style: {path_b.metadata['learning_style']}\")\n",
        "print(\"=\" * 80)\n",
        "\n",
        "# Show concepts with different statuses\n",
        "for node in path_b.nodes:\n",
        "    if node.status in [\"in_progress\", \"completed\"]:\n",
        "        status_emoji = {\"completed\": \"✅\", \"in_progress\": \"🔄\"}\n",
        "        print(f\"\\n{status_emoji[node.status]} {node.concept.name}\")\n",
        "        print(f\"   Mastery: {node.current_mastery:.1%} (Target: {node.target_mastery:.1%})\")\n",
        "        \n",
        "        # Show lab/project resources prioritized for kinesthetic learners\n",
        "        hands_on = [r for r in node.recommended_resources if r.type in ['lab', 'project', 'interactive']]\n",
        "        if hands_on:\n",
        "            print(f\"   🛠️ Hands-on Resources:\")\n",
        "            for res in hands_on[:2]:\n",
        "                print(f\"      • {res.title} ({res.type}, {res.duration_minutes}min)\")\n"
      ]
    },
    {
      "cell_type": "markdown",
      "metadata": {},
      "source": [
        "### Example 3: Mathematics Path - Calculus Preparation\n"
      ]
    },
    {
      "cell_type": "code",
      "execution_count": null,
      "metadata": {},
      "outputs": [],
      "source": [
        "# User C: Math student preparing for calculus\n",
        "user_c_attempts = [\n",
        "    {\"concept\": \"algebra_basics\", \"correct\": True},\n",
        "    {\"concept\": \"algebra_basics\", \"correct\": True},\n",
        "    {\"concept\": \"linear_equations\", \"correct\": True},\n",
        "    {\"concept\": \"linear_equations\", \"correct\": False},\n",
        "]\n",
        "\n",
        "path_c = generator.generate_path(\n",
        "    user_id=\"user_c_math\",\n",
        "    subject=\"math\",\n",
        "    user_attempts=user_c_attempts,\n",
        "    learning_style=LearningStyle.VISUAL,\n",
        "    learning_goal=\"Prepare for AP Calculus\"\n",
        ")\n",
        "\n",
        "print(\"=\" * 80)\n",
        "print(f\"📐 Mathematics Learning Path for {path_c.user_id}\")\n",
        "print(f\"📊 Overall Mastery: {path_c.overall_mastery:.1%}\")\n",
        "print(f\"⏱️  Estimated Time: {path_c.metadata['estimated_total_hours']:.1f} hours\")\n",
        "print(\"=\" * 80)\n",
        "\n",
        "for i, node in enumerate(path_c.nodes, 1):\n",
        "    status_emoji = {\"completed\": \"✅\", \"in_progress\": \"🔄\", \"not_started\": \"⭕\", \"locked\": \"🔒\"}\n",
        "    print(f\"\\n{i}. {status_emoji[node.status]} {node.concept.name}\")\n",
        "    print(f\"   Mastery: {node.current_mastery:.1%} → {node.target_mastery:.1%}\")\n",
        "    \n",
        "    # Show prerequisite chain\n",
        "    if node.concept.prerequisites:\n",
        "        prereq_status = []\n",
        "        for prereq_id in node.concept.prerequisites:\n",
        "            prereq_node = next((n for n in path_c.nodes if n.concept.id == prereq_id), None)\n",
        "            if prereq_node:\n",
        "                prereq_status.append(f\"{prereq_node.concept.name} ({prereq_node.current_mastery:.0%})\")\n",
        "        print(f\"   Prerequisites: {' → '.join(prereq_status)}\")\n"
      ]
    },
    {
      "cell_type": "markdown",
      "metadata": {},
      "source": [
        "### Example 4: Adaptive Path Updates\n",
        "\n",
        "Simulating how the path adapts as the user makes progress\n"
      ]
    }
  ],
  "metadata": {
    "language_info": {
      "name": "python"
    }
  },
  "nbformat": 4,
  "nbformat_minor": 2
}
