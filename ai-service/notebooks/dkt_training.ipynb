{
  "cells": [
    {
      "cell_type": "markdown",
      "metadata": {},
      "source": [
        "# Deep Knowledge Tracing (DKT) - Training Notebook\n",
        "\n",
        "This notebook demonstrates:\n",
        "1. Creating synthetic student interaction data\n",
        "2. Training a DKT LSTM model\n",
        "3. Evaluating model performance (AUC, Brier score)\n",
        "4. Comparing with Beta-Bernoulli baseline\n",
        "5. Saving the trained model for deployment\n"
      ]
    },
    {
      "cell_type": "code",
      "execution_count": null,
      "metadata": {},
      "outputs": [],
      "source": [
        "import sys\n",
        "sys.path.append('..')\n",
        "\n",
        "import numpy as np\n",
        "import torch\n",
        "import matplotlib.pyplot as plt\n",
        "from pathlib import Path\n",
        "\n",
        "from models.dkt import DKT, DKTPredictor, create_synthetic_data, train_dkt\n",
        "from models.beta_kt import BetaKT\n",
        "from evaluation import KTEvaluator\n",
        "\n",
        "print(f\"PyTorch version: {torch.__version__}\")\n",
        "print(f\"Device: {'cuda' if torch.cuda.is_available() else 'cpu'}\")\n"
      ]
    },
    {
      "cell_type": "markdown",
      "metadata": {},
      "source": [
        "## 1. Generate Synthetic Data\n",
        "\n",
        "We'll create synthetic student interaction sequences with varying abilities and learning effects.\n"
      ]
    },
    {
      "cell_type": "code",
      "execution_count": null,
      "metadata": {},
      "outputs": [],
      "source": [
        "# Parameters\n",
        "N_STUDENTS = 200\n",
        "N_QUESTIONS = 25\n",
        "SEED = 42\n",
        "\n",
        "# Generate data\n",
        "data = create_synthetic_data(\n",
        "    n_students=N_STUDENTS,\n",
        "    n_questions=N_QUESTIONS,\n",
        "    seq_len_range=(15, 60),\n",
        "    seed=SEED\n",
        ")\n",
        "\n",
        "print(f\"Generated {len(data)} student sequences\")\n",
        "print(f\"Example sequence length: {len(data[0]['attempts'])}\")\n",
        "print(f\"Example first 5 attempts: {data[0]['attempts'][:5]}\")\n"
      ]
    },
    {
      "cell_type": "markdown",
      "metadata": {},
      "source": [
        "## 2. Train DKT Model\n"
      ]
    },
    {
      "cell_type": "code",
      "execution_count": null,
      "metadata": {},
      "outputs": [],
      "source": [
        "# Split data\n",
        "np.random.shuffle(data)\n",
        "train_data = data[:140]\n",
        "test_data = data[140:]\n",
        "\n",
        "# Train\n",
        "model = train_dkt(\n",
        "    data=train_data,\n",
        "    n_questions=N_QUESTIONS,\n",
        "    epochs=20,\n",
        "    batch_size=32,\n",
        "    lr=0.001,\n",
        "    device='cpu',\n",
        "    save_path='../models/dkt_model.pt'\n",
        ")\n",
        "\n",
        "print(\"Training complete! Model saved.\")\n"
      ]
    },
    {
      "cell_type": "markdown",
      "metadata": {},
      "source": [
        "## 3. Evaluate and Compare\n",
        "\n",
        "Now evaluate the DKT model and compare with the Beta-Bernoulli baseline.\n"
      ]
    },
    {
      "cell_type": "code",
      "execution_count": null,
      "metadata": {},
      "outputs": [],
      "source": [
        "# Load and evaluate DKT\n",
        "predictor = DKTPredictor(model_path='../models/dkt_model.pt', device='cpu')\n",
        "\n",
        "y_true = []\n",
        "y_pred = []\n",
        "\n",
        "for student in test_data:\n",
        "    attempts = student['attempts']\n",
        "    for i in range(5, len(attempts)):\n",
        "        history = attempts[:i]\n",
        "        next_attempt = attempts[i]\n",
        "        prob = predictor.predict_next_question(history, next_attempt['question_id'])\n",
        "        y_true.append(int(next_attempt['correct']))\n",
        "        y_pred.append(prob)\n",
        "\n",
        "# Metrics\n",
        "dkt_metrics = KTEvaluator.evaluate_model(y_true, y_pred)\n",
        "print(f\"DKT AUC: {dkt_metrics['auc']:.4f}\")\n",
        "print(f\"DKT Brier: {dkt_metrics['brier_score']:.4f}\")\n",
        "print(f\"DKT Accuracy: {dkt_metrics['accuracy']:.4f}\")\n"
      ]
    },
    {
      "cell_type": "markdown",
      "metadata": {},
      "source": [
        "## 4. Baseline Comparison - Beta-Bernoulli KT\n",
        "\n",
        "Now let's compare with the simpler Beta-Bernoulli baseline model.\n"
      ]
    },
    {
      "cell_type": "code",
      "execution_count": null,
      "metadata": {},
      "outputs": [],
      "source": [
        "# Beta-Bernoulli baseline\n",
        "beta_kt = BetaKT(alpha=1.0, beta=1.0)\n",
        "\n",
        "# Create concept mapping for evaluation\n",
        "# Map question_id to concept (simplified: each question is its own concept)\n",
        "concept_map = {i: f\"concept_{i}\" for i in range(N_QUESTIONS)}\n",
        "\n",
        "y_true_beta = []\n",
        "y_pred_beta = []\n",
        "\n",
        "for student in test_data:\n",
        "    attempts = student['attempts']\n",
        "    for i in range(5, len(attempts)):\n",
        "        history = attempts[:i]\n",
        "        next_attempt = attempts[i]\n",
        "        \n",
        "        # Convert to concept format for Beta-KT\n",
        "        history_with_concepts = [\n",
        "            {'concept': concept_map[a['question_id']], 'correct': a['correct']}\n",
        "            for a in history\n",
        "        ]\n",
        "        \n",
        "        # Predict mastery for next question's concept\n",
        "        mastery = beta_kt.predict_mastery(history_with_concepts)\n",
        "        concept = concept_map[next_attempt['question_id']]\n",
        "        prob = mastery.get(concept, 0.5)  # default to 0.5 if no prior\n",
        "        \n",
        "        y_true_beta.append(int(next_attempt['correct']))\n",
        "        y_pred_beta.append(prob)\n",
        "\n",
        "# Evaluate Beta-KT\n",
        "beta_metrics = KTEvaluator.evaluate_model(y_true_beta, y_pred_beta)\n",
        "print(f\"Beta-KT AUC: {beta_metrics['auc']:.4f}\")\n",
        "print(f\"Beta-KT Brier: {beta_metrics['brier_score']:.4f}\")\n",
        "print(f\"Beta-KT Accuracy: {beta_metrics['accuracy']:.4f}\")\n"
      ]
    },
    {
      "cell_type": "markdown",
      "metadata": {},
      "source": [
        "## 5. Model Comparison Summary\n"
      ]
    },
    {
      "cell_type": "code",
      "execution_count": null,
      "metadata": {},
      "outputs": [],
      "source": [
        "# Compare models side by side\n",
        "print(\"=\" * 60)\n",
        "print(\"MODEL COMPARISON\")\n",
        "print(\"=\" * 60)\n",
        "print(f\"{'Metric':<20} {'DKT':<20} {'Beta-KT':<20}\")\n",
        "print(\"-\" * 60)\n",
        "print(f\"{'AUC':<20} {dkt_metrics['auc']:<20.4f} {beta_metrics['auc']:<20.4f}\")\n",
        "print(f\"{'Brier Score':<20} {dkt_metrics['brier_score']:<20.4f} {beta_metrics['brier_score']:<20.4f}\")\n",
        "print(f\"{'Accuracy':<20} {dkt_metrics['accuracy']:<20.4f} {beta_metrics['accuracy']:<20.4f}\")\n",
        "print(\"=\" * 60)\n",
        "\n",
        "# Visualize comparison\n",
        "fig, axes = plt.subplots(1, 2, figsize=(14, 5))\n",
        "\n",
        "# AUC comparison\n",
        "models = ['DKT', 'Beta-KT']\n",
        "auc_scores = [dkt_metrics['auc'], beta_metrics['auc']]\n",
        "axes[0].bar(models, auc_scores, color=['#3498db', '#e74c3c'])\n",
        "axes[0].set_ylabel('AUC Score')\n",
        "axes[0].set_title('AUC Comparison')\n",
        "axes[0].set_ylim([0, 1])\n",
        "for i, v in enumerate(auc_scores):\n",
        "    axes[0].text(i, v + 0.02, f\"{v:.4f}\", ha='center', fontweight='bold')\n",
        "\n",
        "# Brier score comparison (lower is better)\n",
        "brier_scores = [dkt_metrics['brier_score'], beta_metrics['brier_score']]\n",
        "axes[1].bar(models, brier_scores, color=['#3498db', '#e74c3c'])\n",
        "axes[1].set_ylabel('Brier Score')\n",
        "axes[1].set_title('Brier Score Comparison (Lower is Better)')\n",
        "axes[1].set_ylim([0, max(brier_scores) * 1.2])\n",
        "for i, v in enumerate(brier_scores):\n",
        "    axes[1].text(i, v + 0.01, f\"{v:.4f}\", ha='center', fontweight='bold')\n",
        "\n",
        "plt.tight_layout()\n",
        "plt.show()\n",
        "\n",
        "print(\"\\nKey Insights:\")\n",
        "print(f\"- DKT improves AUC by {(dkt_metrics['auc'] - beta_metrics['auc']):.4f} over Beta-KT\")\n",
        "print(f\"- DKT improves Brier score by {(beta_metrics['brier_score'] - dkt_metrics['brier_score']):.4f} over Beta-KT\")\n",
        "print(f\"- DKT model has been saved to ../models/dkt_model.pt\")\n"
      ]
    },
    {
      "cell_type": "markdown",
      "metadata": {},
      "source": [
        "## 6. STEM Learning Path Generation\n",
        "\n",
        "Now let's use our trained models to generate personalized STEM learning pathways!\n"
      ]
    },
    {
      "cell_type": "code",
      "execution_count": null,
      "metadata": {},
      "outputs": [],
      "source": [
        "# Initialize STEM path generator\n",
        "from stem_path_generator import STEMPathGenerator, LearningStyle\n",
        "\n",
        "generator = STEMPathGenerator()\n",
        "\n",
        "print(f\"📚 Knowledge Graph loaded with {len(generator.knowledge_graph)} concepts\")\n",
        "print(f\"Subjects available: {set(c.subject for c in generator.knowledge_graph.values())}\")\n"
      ]
    },
    {
      "cell_type": "code",
      "execution_count": null,
      "metadata": {},
      "outputs": [],
      "source": [
        "### Example 1: Beginner Programmer - Visual Learner\n"
      ]
    },
    {
      "cell_type": "markdown",
      "metadata": {},
      "source": [
        "\n"
      ]
    },
    {
      "cell_type": "code",
      "execution_count": null,
      "metadata": {},
      "outputs": [],
      "source": [
        "# User A: Beginner with some exposure to variables\n",
        "user_a_attempts = [\n",
        "    {\"concept\": \"variables\", \"correct\": True},\n",
        "    {\"concept\": \"variables\", \"correct\": True},\n",
        "    {\"concept\": \"variables\", \"correct\": False},  # Still learning\n",
        "    {\"concept\": \"control_structures\", \"correct\": False},  # Struggling\n",
        "]\n",
        "\n",
        "path_a = generator.generate_path(\n",
        "    user_id=\"user_a_beginner\",\n",
        "    subject=\"programming\",\n",
        "    user_attempts=user_a_attempts,\n",
        "    learning_style=LearningStyle.VISUAL,\n",
        "    learning_goal=\"Master Python basics\"\n",
        ")\n",
        "\n",
        "print(\"=\" * 80)\n",
        "print(f\"🎯 Learning Path for {path_a.user_id}\")\n",
        "print(f\"📊 Overall Mastery: {path_a.overall_mastery:.1%}\")\n",
        "print(f\"⏱️  Estimated Time: {path_a.metadata['estimated_total_hours']:.1f} hours\")\n",
        "print(\"=\" * 80)\n",
        "\n",
        "for i, node in enumerate(path_a.nodes[:5], 1):  # Show first 5 concepts\n",
        "    status_emoji = {\"completed\": \"✅\", \"in_progress\": \"🔄\", \"not_started\": \"⭕\", \"locked\": \"🔒\"}\n",
        "    print(f\"\\n{i}. {status_emoji[node.status]} {node.concept.name}\")\n",
        "    print(f\"   Current Mastery: {node.current_mastery:.1%} → Target: {node.target_mastery:.1%}\")\n",
        "    print(f\"   Status: {node.status.upper()}\")\n",
        "    print(f\"   Prerequisites: {', '.join(node.concept.prerequisites) or 'None'}\")\n",
        "    print(f\"   Recommended Resources:\")\n",
        "    for res in node.recommended_resources[:2]:  # Show top 2\n",
        "        print(f\"      • {res.title} ({res.type}, {res.duration_minutes}min, difficulty: {res.difficulty:.1%})\")\n"
      ]
    },
    {
      "cell_type": "markdown",
      "metadata": {},
      "source": [
        "\n"
      ]
    },
    {
      "cell_type": "code",
      "execution_count": null,
      "metadata": {},
      "outputs": [],
      "source": [
        "# User B: Intermediate learner, good at fundamentals but needs work on advanced topics\n",
        "user_b_attempts = [\n",
        "    # Strong fundamentals\n",
        "    {\"concept\": \"variables\", \"correct\": True},\n",
        "    {\"concept\": \"variables\", \"correct\": True},\n",
        "    {\"concept\": \"control_structures\", \"correct\": True},\n",
        "    {\"concept\": \"control_structures\", \"correct\": True},\n",
        "    {\"concept\": \"functions\", \"correct\": True},\n",
        "    {\"concept\": \"functions\", \"correct\": False},  # Some challenges\n",
        "    # Struggling with advanced concepts\n",
        "    {\"concept\": \"arrays\", \"correct\": False},\n",
        "    {\"concept\": \"arrays\", \"correct\": False},\n",
        "]\n",
        "\n",
        "path_b = generator.generate_path(\n",
        "    user_id=\"user_b_intermediate\",\n",
        "    subject=\"programming\",\n",
        "    user_attempts=user_b_attempts,\n",
        "    learning_style=LearningStyle.KINESTHETIC,  # Prefers hands-on labs and projects\n",
        "    learning_goal=\"Prepare for data structures course\"\n",
        ")\n",
        "\n",
        "print(\"=\" * 80)\n",
        "print(f\"🎯 Learning Path for {path_b.user_id}\")\n",
        "print(f\"📊 Overall Mastery: {path_b.overall_mastery:.1%}\")\n",
        "print(f\"⏱️  Estimated Time: {path_b.metadata['estimated_total_hours']:.1f} hours\")\n",
        "print(f\"🎨 Learning Style: {path_b.metadata['learning_style']}\")\n",
        "print(\"=\" * 80)\n",
        "\n",
        "# Show concepts with different statuses\n",
        "for node in path_b.nodes:\n",
        "    if node.status in [\"in_progress\", \"completed\"]:\n",
        "        status_emoji = {\"completed\": \"✅\", \"in_progress\": \"🔄\"}\n",
        "        print(f\"\\n{status_emoji[node.status]} {node.concept.name}\")\n",
        "        print(f\"   Mastery: {node.current_mastery:.1%} (Target: {node.target_mastery:.1%})\")\n",
        "        \n",
        "        # Show lab/project resources prioritized for kinesthetic learners\n",
        "        hands_on = [r for r in node.recommended_resources if r.type in ['lab', 'project', 'interactive']]\n",
        "        if hands_on:\n",
        "            print(f\"   🛠️ Hands-on Resources:\")\n",
        "            for res in hands_on[:2]:\n",
        "                print(f\"      • {res.title} ({res.type}, {res.duration_minutes}min)\")\n"
      ]
    },
    {
      "cell_type": "markdown",
      "metadata": {},
      "source": [
        "\n"
      ]
    },
    {
      "cell_type": "code",
      "execution_count": null,
      "metadata": {},
      "outputs": [],
      "source": [
        "# User C: Math student preparing for calculus\n",
        "user_c_attempts = [\n",
        "    {\"concept\": \"algebra_basics\", \"correct\": True},\n",
        "    {\"concept\": \"algebra_basics\", \"correct\": True},\n",
        "    {\"concept\": \"linear_equations\", \"correct\": True},\n",
        "    {\"concept\": \"linear_equations\", \"correct\": False},\n",
        "]\n",
        "\n",
        "path_c = generator.generate_path(\n",
        "    user_id=\"user_c_math\",\n",
        "    subject=\"math\",\n",
        "    user_attempts=user_c_attempts,\n",
        "    learning_style=LearningStyle.VISUAL,\n",
        "    learning_goal=\"Prepare for AP Calculus\"\n",
        ")\n",
        "\n",
        "print(\"=\" * 80)\n",
        "print(f\"📐 Mathematics Learning Path for {path_c.user_id}\")\n",
        "print(f\"📊 Overall Mastery: {path_c.overall_mastery:.1%}\")\n",
        "print(f\"⏱️  Estimated Time: {path_c.metadata['estimated_total_hours']:.1f} hours\")\n",
        "print(\"=\" * 80)\n",
        "\n",
        "for i, node in enumerate(path_c.nodes, 1):\n",
        "    status_emoji = {\"completed\": \"✅\", \"in_progress\": \"🔄\", \"not_started\": \"⭕\", \"locked\": \"🔒\"}\n",
        "    print(f\"\\n{i}. {status_emoji[node.status]} {node.concept.name}\")\n",
        "    print(f\"   Mastery: {node.current_mastery:.1%} → {node.target_mastery:.1%}\")\n",
        "    \n",
        "    # Show prerequisite chain\n",
        "    if node.concept.prerequisites:\n",
        "        prereq_status = []\n",
        "        for prereq_id in node.concept.prerequisites:\n",
        "            prereq_node = next((n for n in path_c.nodes if n.concept.id == prereq_id), None)\n",
        "            if prereq_node:\n",
        "                prereq_status.append(f\"{prereq_node.concept.name} ({prereq_node.current_mastery:.0%})\")\n",
        "        print(f\"   Prerequisites: {' → '.join(prereq_status)}\")\n"
      ]
    },
    {
      "cell_type": "code",
      "execution_count": null,
      "metadata": {},
      "outputs": [],
      "source": [
        "### Example 4: Adaptive Path Updates\n",
        "\n",
        "Simulating how the path adapts as the user makes progress\n"
      ]
    },
    {
      "cell_type": "markdown",
      "metadata": {},
      "source": [
        "\n"
      ]
    },
    {
      "cell_type": "code",
      "execution_count": null,
      "metadata": {},
      "outputs": [],
      "source": [
        "# Start with User A's original path\n",
        "print(\"📌 Original Path for User A:\")\n",
        "print(f\"Overall Mastery: {path_a.overall_mastery:.1%}\\n\")\n",
        "\n",
        "for node in path_a.nodes[:3]:\n",
        "    print(f\"  {node.concept.name}: {node.current_mastery:.1%} ({node.status})\")\n",
        "\n",
        "# Simulate new learning attempts (user practiced control_structures)\n",
        "new_attempts = [\n",
        "    {\"concept\": \"control_structures\", \"correct\": True},\n",
        "    {\"concept\": \"control_structures\", \"correct\": True},\n",
        "    {\"concept\": \"control_structures\", \"correct\": True},\n",
        "    {\"concept\": \"control_structures\", \"correct\": False},  # Still one mistake\n",
        "]\n",
        "\n",
        "print(\"\\n🔄 User completed practice on Control Structures...\")\n",
        "\n",
        "# Update the path\n",
        "updated_path = generator.update_path_with_new_attempts(path_a, new_attempts)\n",
        "\n",
        "print(\"\\n📈 Updated Path:\")\n",
        "print(f\"Overall Mastery: {updated_path.overall_mastery:.1%}\\n\")\n",
        "\n",
        "# Create a lookup dictionary for easier access\n",
        "original_mastery = {node.concept.id: node.current_mastery for node in path_a.nodes}\n",
        "\n",
        "for node in updated_path.nodes[:3]:\n",
        "    old_mastery = original_mastery.get(node.concept.id, 0.0)\n",
        "    mastery_change = node.current_mastery - old_mastery\n",
        "    \n",
        "    change_indicator = \"📈\" if mastery_change > 0 else \"➡️\"\n",
        "    print(f\"  {change_indicator} {node.concept.name}: {node.current_mastery:.1%} ({node.status})\", end=\"\")\n",
        "    if mastery_change > 0:\n",
        "        print(f\" [+{mastery_change:.1%}]\")\n",
        "    else:\n",
        "        print()\n",
        "\n",
        "# Get next recommended concept\n",
        "next_concept = generator.get_next_recommended_concept(updated_path)\n",
        "if next_concept:\n",
        "    print(f\"\\n🎯 Next Recommended: {next_concept.name}\")\n",
        "    print(f\"   This concept will help you progress toward your goal!\")\n"
      ]
    },
    {
      "cell_type": "code",
      "execution_count": null,
      "metadata": {},
      "outputs": [],
      "source": [
        "### Visualization: Mastery Progression Across Concepts\n"
      ]
    },
    {
      "cell_type": "markdown",
      "metadata": {},
      "source": [
        "# Create visualization comparing different learner profiles\n",
        "fig, axes = plt.subplots(1, 3, figsize=(18, 5))\n",
        "\n",
        "paths_to_viz = [\n",
        "    (path_a, \"Beginner (Visual)\", \"skyblue\"),\n",
        "    (path_b, \"Intermediate (Kinesthetic)\", \"lightcoral\"),\n",
        "    (path_c, \"Math Student\", \"lightgreen\")\n",
        "]\n",
        "\n",
        "for idx, (path, title, color) in enumerate(paths_to_viz):\n",
        "    ax = axes[idx]\n",
        "    \n",
        "    concepts = [node.concept.name[:20] for node in path.nodes[:6]]  # First 6 concepts\n",
        "    current_mastery = [node.current_mastery * 100 for node in path.nodes[:6]]\n",
        "    target_mastery = [node.target_mastery * 100 for node in path.nodes[:6]]\n",
        "    \n",
        "    x = np.arange(len(concepts))\n",
        "    width = 0.35\n",
        "    \n",
        "    bars1 = ax.bar(x - width/2, current_mastery, width, label='Current', color=color, alpha=0.8)\n",
        "    bars2 = ax.bar(x + width/2, target_mastery, width, label='Target', color='gray', alpha=0.4)\n",
        "    \n",
        "    ax.set_ylabel('Mastery %')\n",
        "    ax.set_title(f'{title}\\nOverall: {path.overall_mastery*100:.1f}%')\n",
        "    ax.set_xticks(x)\n",
        "    ax.set_xticklabels(concepts, rotation=45, ha='right', fontsize=8)\n",
        "    ax.legend()\n",
        "    ax.set_ylim(0, 100)\n",
        "    ax.axhline(y=70, color='green', linestyle='--', alpha=0.3, label='Typical Target')\n",
        "    ax.grid(axis='y', alpha=0.3)\n",
        "\n",
        "plt.tight_layout()\n",
        "plt.savefig('stem_mastery_comparison.png', dpi=150, bbox_inches='tight')\n",
        "plt.show()\n",
        "\n",
        "print(\"\\n📊 Visualization saved as 'stem_mastery_comparison.png'\")\n"
      ]
    },
    {
      "cell_type": "markdown",
      "metadata": {},
      "source": [
        "\n"
      ]
    },
    {
      "cell_type": "markdown",
      "metadata": {},
      "source": [
        "# Export path in API-ready JSON format\n",
        "path_json = path_a.to_dict()\n",
        "\n",
        "print(\"📄 Sample API Response (first 2 concepts):\\n\")\n",
        "sample_response = {\n",
        "    \"path_id\": path_json[\"path_id\"],\n",
        "    \"user_id\": path_json[\"user_id\"],\n",
        "    \"subject\": path_json[\"subject\"],\n",
        "    \"overall_mastery\": path_json[\"overall_mastery\"],\n",
        "    \"concepts\": path_json[\"concepts\"][:2],  # Show first 2\n",
        "    \"metadata\": path_json[\"metadata\"]\n",
        "}\n",
        "\n",
        "print(json.dumps(sample_response, indent=2))\n",
        "\n",
        "# Save full path\n",
        "with open('../output/example_stem_path.json', 'w') as f:\n",
        "    json.dump(path_json, f, indent=2)\n",
        "\n",
        "print(\"\\n✅ Full learning path saved to '../output/example_stem_path.json'\")\n"
      ]
    }
  ],
  "metadata": {
    "language_info": {
      "name": "python"
    }
  },
  "nbformat": 4,
  "nbformat_minor": 2
}
